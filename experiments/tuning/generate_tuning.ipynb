{
 "cells": [
  {
   "cell_type": "markdown",
   "metadata": {},
   "source": [
    "### Generate the tuning hyperparameters\n",
    "In order to fairly evaluate the algorithms, the hyperparameters need to be tuned.\n",
    "I use random tuning.\n",
    "This script outputs a text file for hyperparameters.\n",
    "Each line of the text file can be passed as a command line argument to `run_experiment.py`"
   ]
  },
  {
   "cell_type": "code",
   "execution_count": 1,
   "metadata": {},
   "outputs": [],
   "source": [
    "# imports\n",
    "import numpy as np\n",
    "import pandas as pd\n",
    "import random\n"
   ]
  },
  {
   "cell_type": "code",
   "execution_count": 39,
   "metadata": {},
   "outputs": [],
   "source": [
    "# define hyperparameters and sampling ranges\n",
    "random.seed(42)\n",
    "\n",
    "# things to hit\n",
    "_agent=[\"DQN\",\"UADQN\"]\n",
    "_action_selection=[\"softmax\", \"egreedy\"]\n",
    "_seed = [1]\n",
    "_n_episodes = [100]\n",
    "\n",
    "# things to sample from\n",
    "_lr = [1e-1, 7e-2, 3e-2, 1e-2, 7e-3, 3e-3, 1e-3, 7e-4, 3e-4, 1e-4, 7e-5, 3e-5, 1e-5]\n",
    "_batch_size = [1, 2, 4, 8, 16, 32, 64, 128, 256]\n",
    "_adam_epsilon = [1e-3, 1e-4, 1e-5, 1e-6, 1e-7, 1e-8, 1e-9, 1e-10]\n",
    "_update_target = [4, 8, 16, 32]\n",
    "_epsilon_final = [0.1, 0.08, 0.06, 0.04, 0.03, 0.02, 0.01]\n",
    "\n",
    "# generate samples\n",
    "result = \"\"\n",
    "#DQN\n",
    "for action_selection in _action_selection:\n",
    "    for n_episodes in _n_episodes:\n",
    "        for _ in range(200):\n",
    "            for seed in _seed:\n",
    "                line = '--agent=\"DQN\" '\n",
    "                line += '--action_selection=\"'+action_selection+ '\" '\n",
    "                line += '--n_episodes='+str(n_episodes) + \" \"\n",
    "\n",
    "                line += '--lr='+str(random.sample(_lr,1)[0]) + \" \"\n",
    "                line += '--batch_size='+str(random.sample(_batch_size,1)[0]) + \" \"\n",
    "                line += '--adam_epsilon='+str(random.sample(_adam_epsilon,1)[0]) + \" \"\n",
    "                line += '--update_target='+str(random.sample(_update_target,1)[0]) + \" \"\n",
    "                if action_selection==\"egreedy\":\n",
    "                    line += '--epsilon_final='+str(random.sample(_epsilon_final,1)[0]) + \" \"\n",
    "\n",
    "\n",
    "                result += line + '--seed='+str(seed) + \"\\n\"\n",
    "# UADQN\n",
    "for n_episodes in _n_episodes:\n",
    "    for _ in range(100):\n",
    "        for seed in _seed:\n",
    "            line = '--agent=\"DQN\" '\n",
    "            line += '--n_episodes='+str(n_episodes) + \" \"\n",
    "\n",
    "            line += '--lr='+str(random.sample(_lr,1)[0]) + \" \"\n",
    "            line += '--batch_size='+str(random.sample(_batch_size,1)[0]) + \" \"\n",
    "            line += '--adam_epsilon='+str(random.sample(_adam_epsilon,1)[0]) + \" \"\n",
    "            line += '--update_target='+str(random.sample(_update_target,1)[0]) + \" \"\n",
    "\n",
    "\n",
    "            result += line + '--seed='+str(seed) + \"\\n\"\n",
    "\n",
    "# write text file\n",
    "\n",
    "with open(\"tuning.txt\", \"w\") as f:\n",
    "    f.write(result)"
   ]
  },
  {
   "cell_type": "markdown",
   "metadata": {},
   "source": [
    "### Evaluate Tuning Results\n",
    "After the tuning runs, the results are stored in the `results` folder.\n",
    "I read them in and generate files `tuned_hyperparameters_DQN_softmax.txt`, `tuned_hyperparameters_DQN_egreedy.txt`, `tuned_hyperparameters_UADQN.txt` with the optimal hyperparameter values for the three algorithms."
   ]
  },
  {
   "cell_type": "code",
   "execution_count": null,
   "metadata": {},
   "outputs": [],
   "source": [
    "# read results\n",
    "\n",
    "# generate files"
   ]
  },
  {
   "cell_type": "markdown",
   "metadata": {},
   "source": [
    "### Generate Tuning Plots\n",
    "From the tuning results, some things can be visualized:\n",
    "1. the effect of the batch size on performance\n",
    "2. ...\n",
    "3. ..."
   ]
  },
  {
   "cell_type": "code",
   "execution_count": null,
   "metadata": {},
   "outputs": [],
   "source": []
  }
 ],
 "metadata": {
  "kernelspec": {
   "display_name": "Python 3.9.15 ('citylearn-2022-starter-kit-yKTDyhqN')",
   "language": "python",
   "name": "python3"
  },
  "language_info": {
   "codemirror_mode": {
    "name": "ipython",
    "version": 3
   },
   "file_extension": ".py",
   "mimetype": "text/x-python",
   "name": "python",
   "nbconvert_exporter": "python",
   "pygments_lexer": "ipython3",
   "version": "3.9.15"
  },
  "orig_nbformat": 4,
  "vscode": {
   "interpreter": {
    "hash": "64cf6ec853810495f36d7c2a8299078f24205ea0a8ca10fcd3d168b92a4562b9"
   }
  }
 },
 "nbformat": 4,
 "nbformat_minor": 2
}
