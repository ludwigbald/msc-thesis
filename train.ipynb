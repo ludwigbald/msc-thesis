{
 "cells": [
  {
   "cell_type": "code",
   "execution_count": 9,
   "metadata": {},
   "outputs": [],
   "source": [
    "# To run this example, move this file to the main directory of this repository\n",
    "import citylearn.citylearn\n",
    "from pathlib import Path\n",
    "import numpy as np\n",
    "import pandas as pd\n",
    "import torch\n",
    "import matplotlib.pyplot as plt\n",
    "from citylearn.agents.sac import SAC as Agent\n",
    "import time\n",
    "from gym import spaces\n",
    "\n",
    "from agents.orderenforcingwrapper import OrderEnforcingAgent\n",
    "from citylearn.citylearn import CityLearnEnv\n"
   ]
  },
  {
   "cell_type": "code",
   "execution_count": 2,
   "metadata": {},
   "outputs": [],
   "source": [
    "class Constants:\n",
    "    episodes = 3\n",
    "    schema_path = './data/citylearn_challenge_2022_phase_1/schema.json'\n",
    "\n",
    "def action_space_to_dict(aspace):\n",
    "    \"\"\" Only for box space \"\"\"\n",
    "    return { \"high\": aspace.high,\n",
    "             \"low\": aspace.low,\n",
    "             \"shape\": aspace.shape,\n",
    "             \"dtype\": str(aspace.dtype)\n",
    "    }\n",
    "\n",
    "def env_reset(env):\n",
    "    observations = env.reset()\n",
    "    action_space = env.action_space\n",
    "    observation_space = env.observation_space\n",
    "    building_info = env.get_building_information()\n",
    "    building_info = list(building_info.values())\n",
    "    action_space_dicts = [action_space_to_dict(asp) for asp in action_space]\n",
    "    observation_space_dicts = [action_space_to_dict(osp) for osp in observation_space]\n",
    "    obs_dict = {\"action_space\": action_space_dicts,\n",
    "                \"observation_space\": observation_space_dicts,\n",
    "                \"building_info\": building_info,\n",
    "                \"observation\": observations }\n",
    "    return obs_dict"
   ]
  },
  {
   "cell_type": "code",
   "execution_count": 3,
   "metadata": {},
   "outputs": [],
   "source": [
    "# load environment\n",
    "env = CityLearnEnv(schema=Constants.schema_path)\n",
    "obs_dict = env_reset(env)\n",
    "\n",
    "\n",
    "episodes_completed = 0\n",
    "num_steps = 0\n",
    "interrupted = False\n",
    "episode_metrics = []\n",
    "\n",
    "# Contain the lower and upper bounds of the states and actions, to be provided to the agent to normalize the variables between 0 and 1.\n",
    "observations_spaces = obs_dict[\"observation_space\"]\n",
    "actions_spaces = obs_dict[\"action_space\"]\n",
    "\n",
    "# Provides information on Building type, Climate Zone, Annual DHW demand, Annual Cooling Demand, Annual Electricity Demand, Solar Capacity, and correllations among buildings\n",
    "building_info = obs_dict[\"building_info\"]\n",
    "\n",
    "params_agent = {#'building_ids':[\"Building_\"+str(i) for i in [1,2,3,4,5]],\n",
    "                 'building_info':building_info,\n",
    "                 'observation_space': spaces.Box(**observations_spaces[0]),\n",
    "                 'action_space':spaces.Box(**actions_spaces[0])}\n",
    "\n",
    "# Instantiating the control agent(s)\n",
    "agents = Agent(**params_agent)"
   ]
  },
  {
   "cell_type": "code",
   "execution_count": 4,
   "metadata": {},
   "outputs": [
    {
     "name": "stdout",
     "output_type": "stream",
     "text": [
      "Starting Episode 0/3:\n",
      "0 : [-9.21360188e-01 -5.17178656e-01 -3.84308580e-08 -1.60537493e+00\n",
      " -1.94652613e-01]\n",
      "1000 : [-1.0125033  -3.31051683 -0.         -0.         -1.38064462]\n",
      "2000 : [-0. -0. -0. -0. -0.]\n",
      "3000 : [-0.24164348 -0.14858086 -0.03507404 -0.11326762 -0.28543398]\n",
      "4000 : [-2.84595058 -3.11515913 -2.3366892  -0.77566356 -0.8967383 ]\n",
      "5000 : [-0.0842145  -0.         -0.66631216 -0.03904369 -0.00254273]\n",
      "6000 : [-0.19941086 -0.14250566 -0.18144769 -0.35133438 -0.11379949]\n",
      "7000 : [-0.67465174 -0.         -0.         -0.         -0.47569721]\n",
      "8000 : [-0.         -0.         -0.         -0.54664623 -0.        ]\n",
      "evaluation after episode 0 (1.0663348533333805, 1.1538157344161963)\n",
      "Starting Episode 1/3:\n",
      "0 : [-0.50421165 -0.52371807 -0.41900701 -0.78297836 -0.30501101]\n",
      "1000 : [-0.14853422 -1.90869929 -0.         -0.         -0.24743368]\n",
      "2000 : [-0. -0. -0. -0. -0.]\n",
      "3000 : [-0.24164348 -0.14858086 -0.03507404 -0.11326762 -0.28543398]\n",
      "4000 : [-0.66347752 -0.92768008 -0.3052728  -0.41170803 -0.01012477]\n",
      "5000 : [-0.0842145  -0.         -0.66631216 -0.03904369 -0.00254273]\n",
      "6000 : [-0.19941086 -0.14250566 -0.18144769 -0.35133438 -0.11379949]\n",
      "7000 : [-0.67465174 -0.         -0.         -0.         -0.55567382]\n",
      "8000 : [-0.         -0.         -0.         -0.54664623 -0.        ]\n",
      "evaluation after episode 1 (1.0312167883538943, 1.058683833886288)\n",
      "Starting Episode 2/3:\n",
      "0 : [-3.21161405e-01 -5.17178656e-01 -3.84308580e-08 -7.27534031e-01\n",
      " -1.94652613e-01]\n",
      "1000 : [-0.16910752 -1.61688238 -0.         -0.         -0.24743368]\n",
      "2000 : [-0. -0. -0. -0. -0.]\n",
      "3000 : [-0.24164348 -0.14858086 -0.03507404 -0.11326762 -0.28543398]\n",
      "4000 : [-0.66347752 -0.92768008 -0.3052728  -0.41170803 -0.01012477]\n",
      "5000 : [-0.         -0.         -0.66631216 -0.03904369 -0.00254273]\n",
      "6000 : [-0.05170704 -0.14250566 -0.         -0.35133438 -0.        ]\n",
      "7000 : [-0.67465174 -0.         -0.         -0.         -0.55567382]\n",
      "8000 : [-0.         -0.         -0.         -0.54664623 -0.        ]\n",
      "evaluation after episode 2 (1.0359083128266393, 1.048599158757038)\n"
     ]
    }
   ],
   "source": [
    "# actually train:\n",
    "for episode in range(Constants.episodes):\n",
    "    print(\"Starting Episode {}/{}:\".format(episode, Constants.episodes))\n",
    "    done = False\n",
    "    actions = []\n",
    "    timestep = 0\n",
    "\n",
    "    states = env.reset()\n",
    "    for i in range(5):\n",
    "        actions.append(agents.select_actions(states[i]))\n",
    "    while not done:\n",
    "        next_states, reward, done, _ = env.step(actions)\n",
    "        actions_next = []\n",
    "        for i in range(5):\n",
    "            actions_next.append(agents.select_actions(next_states[i]))\n",
    "            agents.add_to_buffer(states[i], actions[i], reward[i], next_states[i], done)\n",
    "        states = next_states\n",
    "        actions = actions_next\n",
    "\n",
    "        if timestep % 1000 == 0:\n",
    "            print(timestep, \":\", reward)\n",
    "        timestep += 1\n",
    "   \n",
    "    print(\"evaluation after episode {}\".format(episode), env.evaluate())"
   ]
  },
  {
   "cell_type": "code",
   "execution_count": 13,
   "metadata": {},
   "outputs": [
    {
     "data": {
      "text/plain": [
       "[<matplotlib.lines.Line2D at 0x17f1add30>]"
      ]
     },
     "execution_count": 13,
     "metadata": {},
     "output_type": "execute_result"
    },
    {
     "data": {
      "image/png": "[encoded data removed]",
      "text/plain": [
       "<Figure size 432x288 with 1 Axes>"
      ]
     },
     "metadata": {
      "needs_background": "light"
     },
     "output_type": "display_data"
    }
   ],
   "source": [
    "plt.plot(pd.Series([reward[0] for reward in env.rewards[1:]]).rolling(24).mean())"
   ]
  },
  {
   "cell_type": "code",
   "execution_count": 21,
   "metadata": {},
   "outputs": [],
   "source": [
    "import pickle\n",
    "with open(\"agent.pickle\", \"wb\") as f:\n",
    "    pickle.dump(agents, f)\n",
    "with open(\"env.pickle\", \"wb\") as f:\n",
    "    pickle.dump(env, f)\n"
   ]
  },
  {
   "cell_type": "code",
   "execution_count": 24,
   "metadata": {},
   "outputs": [
    {
     "name": "stdout",
     "output_type": "stream",
     "text": [
      "SoftQNetwork(\n",
      "  (linear1): Linear(in_features=29, out_features=256, bias=True)\n",
      "  (linear2): Linear(in_features=256, out_features=256, bias=True)\n",
      "  (linear3): Linear(in_features=256, out_features=1, bias=True)\n",
      "  (ln1): LayerNorm((256,), eps=1e-05, elementwise_affine=True)\n",
      "  (ln2): LayerNorm((256,), eps=1e-05, elementwise_affine=True)\n",
      ")\n"
     ]
    }
   ],
   "source": []
  },
  {
   "cell_type": "code",
   "execution_count": null,
   "metadata": {},
   "outputs": [],
   "source": []
  }
 ],
 "metadata": {
  "kernelspec": {
   "display_name": "Python 3.9.13 ('citylearn-2022-starter-kit-yKTDyhqN')",
   "language": "python",
   "name": "python3"
  },
  "language_info": {
   "codemirror_mode": {
    "name": "ipython",
    "version": 3
   },
   "file_extension": ".py",
   "mimetype": "text/x-python",
   "name": "python",
   "nbconvert_exporter": "python",
   "pygments_lexer": "ipython3",
   "version": "3.9.13"
  },
  "orig_nbformat": 4,
  "vscode": {
   "interpreter": {
    "hash": "64cf6ec853810495f36d7c2a8299078f24205ea0a8ca10fcd3d168b92a4562b9"
   }
  }
 },
 "nbformat": 4,
 "nbformat_minor": 2
}
