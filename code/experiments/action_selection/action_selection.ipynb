{
 "cells": [
  {
   "cell_type": "code",
   "execution_count": 2,
   "metadata": {},
   "outputs": [],
   "source": [
    "# imports\n",
    "import numpy as np\n",
    "import pandas as pd\n",
    "import random\n",
    "import os\n",
    "import re\n",
    "import ast\n",
    "import pickle\n",
    "import matplotlib.pyplot as plt"
   ]
  },
  {
   "cell_type": "markdown",
   "metadata": {},
   "source": [
    "# Action Selection\n",
    "This notebook generates a graph from 3 runs that highlights how differently the algorithms select the actions."
   ]
  },
  {
   "cell_type": "code",
   "execution_count": 6,
   "metadata": {},
   "outputs": [
    {
     "ename": "ValueError",
     "evalue": "not enough values to unpack (expected 3, got 2)",
     "output_type": "error",
     "traceback": [
      "\u001b[0;31m---------------------------------------------------------------------------\u001b[0m",
      "\u001b[0;31mValueError\u001b[0m                                Traceback (most recent call last)",
      "Cell \u001b[0;32mIn [6], line 15\u001b[0m\n\u001b[1;32m     13\u001b[0m \u001b[38;5;28;01mtry\u001b[39;00m:\n\u001b[1;32m     14\u001b[0m     \u001b[38;5;28;01mwith\u001b[39;00m \u001b[38;5;28mopen\u001b[39m(run_folder\u001b[38;5;241m+\u001b[39m\u001b[38;5;124m\"\u001b[39m\u001b[38;5;124m/log_data.pkl\u001b[39m\u001b[38;5;124m\"\u001b[39m, \u001b[38;5;124m\"\u001b[39m\u001b[38;5;124mrb\u001b[39m\u001b[38;5;124m\"\u001b[39m) \u001b[38;5;28;01mas\u001b[39;00m scores:\n\u001b[0;32m---> 15\u001b[0m         episode_scores\u001b[38;5;241m.\u001b[39mappend([score \u001b[38;5;28;01mfor\u001b[39;00m score, ngf, ts \u001b[38;5;129;01min\u001b[39;00m pickle\u001b[38;5;241m.\u001b[39mload(scores)[\u001b[38;5;124m\"\u001b[39m\u001b[38;5;124mEpisode_score\u001b[39m\u001b[38;5;124m\"\u001b[39m]])\n\u001b[1;32m     16\u001b[0m \u001b[38;5;28;01mexcept\u001b[39;00m (\u001b[38;5;167;01mFileNotFoundError\u001b[39;00m):\n\u001b[1;32m     17\u001b[0m     episode_scores\u001b[38;5;241m.\u001b[39mappend(\u001b[38;5;124m\"\u001b[39m\u001b[38;5;124m\"\u001b[39m)\n",
      "Cell \u001b[0;32mIn [6], line 15\u001b[0m, in \u001b[0;36m<listcomp>\u001b[0;34m(.0)\u001b[0m\n\u001b[1;32m     13\u001b[0m \u001b[38;5;28;01mtry\u001b[39;00m:\n\u001b[1;32m     14\u001b[0m     \u001b[38;5;28;01mwith\u001b[39;00m \u001b[38;5;28mopen\u001b[39m(run_folder\u001b[38;5;241m+\u001b[39m\u001b[38;5;124m\"\u001b[39m\u001b[38;5;124m/log_data.pkl\u001b[39m\u001b[38;5;124m\"\u001b[39m, \u001b[38;5;124m\"\u001b[39m\u001b[38;5;124mrb\u001b[39m\u001b[38;5;124m\"\u001b[39m) \u001b[38;5;28;01mas\u001b[39;00m scores:\n\u001b[0;32m---> 15\u001b[0m         episode_scores\u001b[38;5;241m.\u001b[39mappend([score \u001b[38;5;28;01mfor\u001b[39;00m score, ngf, ts \u001b[38;5;129;01min\u001b[39;00m pickle\u001b[38;5;241m.\u001b[39mload(scores)[\u001b[38;5;124m\"\u001b[39m\u001b[38;5;124mEpisode_score\u001b[39m\u001b[38;5;124m\"\u001b[39m]])\n\u001b[1;32m     16\u001b[0m \u001b[38;5;28;01mexcept\u001b[39;00m (\u001b[38;5;167;01mFileNotFoundError\u001b[39;00m):\n\u001b[1;32m     17\u001b[0m     episode_scores\u001b[38;5;241m.\u001b[39mappend(\u001b[38;5;124m\"\u001b[39m\u001b[38;5;124m\"\u001b[39m)\n",
      "\u001b[0;31mValueError\u001b[0m: not enough values to unpack (expected 3, got 2)"
     ]
    }
   ],
   "source": [
    "results=\"results/\"\n",
    "# read results\n",
    "run_folders = [results+s for s in os.listdir(results) if s.startswith(\"2022\")]\n",
    "run_folders.sort(key=lambda f: int(re.findall(r\"[\\d]+\\Z\", f)[0]))\n",
    "\n",
    "params = []\n",
    "episode_scores = []\n",
    "for run_folder in run_folders:\n",
    "    with open(run_folder+\"/experimental-setup\", \"r\") as setup:\n",
    "        setup_dict = ast.literal_eval(setup.read())\n",
    "        setup_dict[\"agent\"] = \"UADQN\" if re.search(r\"UADQN\", run_folder) else \"DQN\"\n",
    "        params.append(setup_dict)\n",
    "    try:\n",
    "        with open(run_folder+\"/log_data.pkl\", \"rb\") as scores:\n",
    "            episode_scores.append([score for score, ts in pickle.load(scores)[\"Episode_score\"]])\n",
    "    except (FileNotFoundError):\n",
    "        episode_scores.append(\"\")"
   ]
  },
  {
   "cell_type": "code",
   "execution_count": 4,
   "metadata": {},
   "outputs": [],
   "source": [
    "setups = pd.DataFrame(params)\n",
    "scores = pd.DataFrame(episode_scores)"
   ]
  },
  {
   "cell_type": "code",
   "execution_count": 5,
   "metadata": {},
   "outputs": [
    {
     "data": {
      "text/html": [
       "<div>\n",
       "<style scoped>\n",
       "    .dataframe tbody tr th:only-of-type {\n",
       "        vertical-align: middle;\n",
       "    }\n",
       "\n",
       "    .dataframe tbody tr th {\n",
       "        vertical-align: top;\n",
       "    }\n",
       "\n",
       "    .dataframe thead th {\n",
       "        text-align: right;\n",
       "    }\n",
       "</style>\n",
       "<table border=\"1\" class=\"dataframe\">\n",
       "  <thead>\n",
       "    <tr style=\"text-align: right;\">\n",
       "      <th></th>\n",
       "      <th>0</th>\n",
       "      <th>1</th>\n",
       "      <th>2</th>\n",
       "      <th>3</th>\n",
       "      <th>4</th>\n",
       "      <th>5</th>\n",
       "      <th>6</th>\n",
       "      <th>7</th>\n",
       "      <th>8</th>\n",
       "      <th>9</th>\n",
       "      <th>...</th>\n",
       "      <th>40</th>\n",
       "      <th>41</th>\n",
       "      <th>42</th>\n",
       "      <th>43</th>\n",
       "      <th>44</th>\n",
       "      <th>45</th>\n",
       "      <th>46</th>\n",
       "      <th>47</th>\n",
       "      <th>48</th>\n",
       "      <th>49</th>\n",
       "    </tr>\n",
       "  </thead>\n",
       "  <tbody>\n",
       "    <tr>\n",
       "      <th>0</th>\n",
       "      <td>-5851.081983</td>\n",
       "      <td>-4890.637740</td>\n",
       "      <td>-4829.098280</td>\n",
       "      <td>-4514.111693</td>\n",
       "      <td>-4932.720180</td>\n",
       "      <td>-4395.070581</td>\n",
       "      <td>-3734.213885</td>\n",
       "      <td>-3365.513747</td>\n",
       "      <td>-2804.574294</td>\n",
       "      <td>-1774.775850</td>\n",
       "      <td>...</td>\n",
       "      <td>-1672.999715</td>\n",
       "      <td>-1245.632564</td>\n",
       "      <td>-1427.350883</td>\n",
       "      <td>-1591.312727</td>\n",
       "      <td>-1440.585046</td>\n",
       "      <td>-1492.893541</td>\n",
       "      <td>-1348.763983</td>\n",
       "      <td>-1383.799293</td>\n",
       "      <td>-1506.396561</td>\n",
       "      <td>-1268.957409</td>\n",
       "    </tr>\n",
       "    <tr>\n",
       "      <th>1</th>\n",
       "      <td>-4481.627196</td>\n",
       "      <td>-4118.677109</td>\n",
       "      <td>-3845.049878</td>\n",
       "      <td>-3684.149747</td>\n",
       "      <td>-3637.508111</td>\n",
       "      <td>-3485.873652</td>\n",
       "      <td>-3483.973103</td>\n",
       "      <td>-3544.139670</td>\n",
       "      <td>-3506.139421</td>\n",
       "      <td>-3680.627810</td>\n",
       "      <td>...</td>\n",
       "      <td>-3793.118525</td>\n",
       "      <td>-3778.790914</td>\n",
       "      <td>-3743.254598</td>\n",
       "      <td>-3786.917743</td>\n",
       "      <td>-3776.565374</td>\n",
       "      <td>-3725.093203</td>\n",
       "      <td>-3773.742737</td>\n",
       "      <td>-3709.467618</td>\n",
       "      <td>-3763.430231</td>\n",
       "      <td>-3697.296398</td>\n",
       "    </tr>\n",
       "    <tr>\n",
       "      <th>2</th>\n",
       "      <td>-3449.987990</td>\n",
       "      <td>-2200.040041</td>\n",
       "      <td>-1737.771271</td>\n",
       "      <td>-1302.780214</td>\n",
       "      <td>-1556.333406</td>\n",
       "      <td>-1345.769357</td>\n",
       "      <td>-1101.409621</td>\n",
       "      <td>-1554.073783</td>\n",
       "      <td>-1186.550906</td>\n",
       "      <td>-929.220847</td>\n",
       "      <td>...</td>\n",
       "      <td>-634.578852</td>\n",
       "      <td>-691.462957</td>\n",
       "      <td>-614.974217</td>\n",
       "      <td>-549.107048</td>\n",
       "      <td>-535.256689</td>\n",
       "      <td>-578.551594</td>\n",
       "      <td>-593.077417</td>\n",
       "      <td>-679.662245</td>\n",
       "      <td>-574.172284</td>\n",
       "      <td>-583.776238</td>\n",
       "    </tr>\n",
       "  </tbody>\n",
       "</table>\n",
       "<p>3 rows × 50 columns</p>\n",
       "</div>"
      ],
      "text/plain": [
       "            0            1            2            3            4   \\\n",
       "0 -5851.081983 -4890.637740 -4829.098280 -4514.111693 -4932.720180   \n",
       "1 -4481.627196 -4118.677109 -3845.049878 -3684.149747 -3637.508111   \n",
       "2 -3449.987990 -2200.040041 -1737.771271 -1302.780214 -1556.333406   \n",
       "\n",
       "            5            6            7            8            9   ...  \\\n",
       "0 -4395.070581 -3734.213885 -3365.513747 -2804.574294 -1774.775850  ...   \n",
       "1 -3485.873652 -3483.973103 -3544.139670 -3506.139421 -3680.627810  ...   \n",
       "2 -1345.769357 -1101.409621 -1554.073783 -1186.550906  -929.220847  ...   \n",
       "\n",
       "            40           41           42           43           44  \\\n",
       "0 -1672.999715 -1245.632564 -1427.350883 -1591.312727 -1440.585046   \n",
       "1 -3793.118525 -3778.790914 -3743.254598 -3786.917743 -3776.565374   \n",
       "2  -634.578852  -691.462957  -614.974217  -549.107048  -535.256689   \n",
       "\n",
       "            45           46           47           48           49  \n",
       "0 -1492.893541 -1348.763983 -1383.799293 -1506.396561 -1268.957409  \n",
       "1 -3725.093203 -3773.742737 -3709.467618 -3763.430231 -3697.296398  \n",
       "2  -578.551594  -593.077417  -679.662245  -574.172284  -583.776238  \n",
       "\n",
       "[3 rows x 50 columns]"
      ]
     },
     "execution_count": 5,
     "metadata": {},
     "output_type": "execute_result"
    }
   ],
   "source": [
    "scores"
   ]
  },
  {
   "cell_type": "code",
   "execution_count": null,
   "metadata": {},
   "outputs": [],
   "source": []
  }
 ],
 "metadata": {
  "kernelspec": {
   "display_name": "Python 3.9.15 ('citylearn-2022-starter-kit-yKTDyhqN')",
   "language": "python",
   "name": "python3"
  },
  "language_info": {
   "codemirror_mode": {
    "name": "ipython",
    "version": 3
   },
   "file_extension": ".py",
   "mimetype": "text/x-python",
   "name": "python",
   "nbconvert_exporter": "python",
   "pygments_lexer": "ipython3",
   "version": "3.10.8"
  },
  "orig_nbformat": 4,
  "vscode": {
   "interpreter": {
    "hash": "64cf6ec853810495f36d7c2a8299078f24205ea0a8ca10fcd3d168b92a4562b9"
   }
  }
 },
 "nbformat": 4,
 "nbformat_minor": 2
}
