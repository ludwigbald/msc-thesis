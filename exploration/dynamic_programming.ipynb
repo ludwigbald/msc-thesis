{
 "cells": [
  {
   "cell_type": "markdown",
   "metadata": {},
   "source": [
    "# Tabular Learning\n",
    "The goal here is to make a table that is able to learn the best actions based on the hour, net_electricity_use and current soc.\n",
    "To start with, the continuous observations are discretized into 10 buckets, and actions are discretized into 11 buckets (for an explicit 0 action), making a table with $24*10*10*11=26400$ entries.\n",
    "For now, we're only looking at individual metrics, so excluding grid costs."
   ]
  },
  {
   "cell_type": "code",
   "execution_count": 1,
   "metadata": {},
   "outputs": [
    {
     "name": "stderr",
     "output_type": "stream",
     "text": [
      "Warning: Gym version v0.24.1 has a number of critical issues with `gym.make` such that environment observation and action spaces are incorrectly evaluated, raising incorrect errors and warning . It is recommend to downgrading to v0.23.1 or upgrading to v0.25.1\n"
     ]
    }
   ],
   "source": [
    "# To run this example, move this file to the main directory of this repository\n",
    "import citylearn.citylearn\n",
    "from pathlib import Path\n",
    "import numpy as np\n",
    "import pandas as pd\n",
    "import torch\n",
    "import matplotlib.pyplot as pyplot\n",
    "\n",
    "import time\n",
    "from gym import spaces\n",
    "\n",
    "from agents.orderenforcingwrapper import OrderEnforcingAgent\n",
    "from citylearn.citylearn import CityLearnEnv\n"
   ]
  },
  {
   "cell_type": "code",
   "execution_count": null,
   "metadata": {},
   "outputs": [],
   "source": [
    "# Load the environment model\n",
    "# We will use this as a simulation to update the state values."
   ]
  },
  {
   "cell_type": "code",
   "execution_count": 2,
   "metadata": {},
   "outputs": [],
   "source": [
    "class Constants:\n",
    "    episodes = 3\n",
    "    schema_path = './data/citylearn_challenge_2022_phase_1/schema.json'\n",
    "\n",
    "def action_space_to_dict(aspace):\n",
    "    \"\"\" Only for box space \"\"\"\n",
    "    return { \"high\": aspace.high,\n",
    "             \"low\": aspace.low,\n",
    "             \"shape\": aspace.shape,\n",
    "             \"dtype\": str(aspace.dtype)\n",
    "    }\n",
    "\n",
    "def env_reset(env):\n",
    "    observations = env.reset()\n",
    "    action_space = env.action_space\n",
    "    observation_space = env.observation_space\n",
    "    building_info = env.get_building_information()\n",
    "    building_info = list(building_info.values())\n",
    "    action_space_dicts = [action_space_to_dict(asp) for asp in action_space]\n",
    "    observation_space_dicts = [action_space_to_dict(osp) for osp in observation_space]\n",
    "    obs_dict = {\"action_space\": action_space_dicts,\n",
    "                \"observation_space\": observation_space_dicts,\n",
    "                \"building_info\": building_info,\n",
    "                \"observation\": observations }\n",
    "    return obs_dict"
   ]
  },
  {
   "cell_type": "code",
   "execution_count": 3,
   "metadata": {},
   "outputs": [],
   "source": [
    "# load environment\n",
    "env = CityLearnEnv(schema=Constants.schema_path)\n",
    "obs_dict = env_reset(env)\n",
    "\n",
    "\n",
    "episodes_completed = 0\n",
    "num_steps = 0\n",
    "interrupted = False\n",
    "episode_metrics = []\n",
    "\n",
    "# Contain the lower and upper bounds of the states and actions, to be provided to the agent to normalize the variables between 0 and 1.\n",
    "observations_spaces = obs_dict[\"observation_space\"]\n",
    "actions_spaces = obs_dict[\"action_space\"]\n",
    "\n",
    "# Provides information on Building type, Climate Zone, Annual DHW demand, Annual Cooling Demand, Annual Electricity Demand, Solar Capacity, and correllations among buildings\n",
    "building_info = obs_dict[\"building_info\"]\n",
    "\n",
    "params_agent = {#'building_ids':[\"Building_\"+str(i) for i in [1,2,3,4,5]],\n",
    "                 'building_info':building_info,\n",
    "                 'observation_space': spaces.Box(**observations_spaces[0]),\n",
    "                 'action_space':spaces.Box(**actions_spaces[0])}\n",
    "\n",
    "# Instantiating the control agent(s)\n",
    "agents = Agent(**params_agent)"
   ]
  },
  {
   "cell_type": "code",
   "execution_count": 5,
   "metadata": {},
   "outputs": [
    {
     "name": "stdout",
     "output_type": "stream",
     "text": [
      "Starting Episode 0/3:\n",
      "0 : [-1.77832637e+00 -3.15404106e+00 -3.47740129e-07 -4.92163870e+00\n",
      " -1.54341048e+00]\n",
      "1000 : [-0.         -2.32337695 -0.         -0.         -7.02821815]\n",
      "2000 : [-0. -0. -0. -0. -0.]\n",
      "3000 : [-1.2522792  -0.85347936 -0.29929212 -0.7263253  -2.12508933]\n",
      "4000 : [-3.29106118 -5.12310468 -2.50650823 -2.54929631 -0.07231429]\n",
      "5000 : [-0.44233557 -0.         -5.75361914 -0.2530861  -0.01917416]\n",
      "6000 : [-1.05793898 -0.83608354 -1.58072723 -2.29582683 -0.86633763]\n",
      "7000 : [-10.61070541  -0.          -0.          -0.         -12.05210348]\n",
      "8000 : [-0.60832294 -0.80436402 -0.         -1.56384297 -2.6520673 ]\n",
      "evaluation after episode 0 (0.9775594406534965, 1.0471785872647668)\n",
      "Starting Episode 1/3:\n",
      "0 : [-1.77832637e+00 -3.15404106e+00 -3.47740129e-07 -4.92163870e+00\n",
      " -1.54341048e+00]\n",
      "1000 : [ -0.          -6.58631469  -0.          -0.         -11.85185954]\n",
      "2000 : [-0. -0. -0. -0. -0.]\n",
      "3000 : [-1.2522792  -0.85347936 -0.29929212 -0.7263253  -2.12508933]\n",
      "4000 : [-3.29106118 -5.12310468 -2.50650823 -2.54929631 -0.07231429]\n",
      "5000 : [-0.44233557 -0.         -5.75361914 -0.2530861  -0.01917416]\n",
      "6000 : [-1.05793898 -0.83608354 -1.58072723 -2.29582683 -0.86633763]\n",
      "7000 : [ -7.95971204  -0.          -0.          -0.         -10.63683067]\n",
      "8000 : [-0.         -0.         -0.         -1.25010974 -0.        ]\n",
      "evaluation after episode 1 (0.9775463746479729, 1.0531276132933935)\n",
      "Starting Episode 2/3:\n",
      "0 : [-1.77832637e+00 -3.15404106e+00 -3.47740129e-07 -4.92163870e+00\n",
      " -1.54341048e+00]\n",
      "1000 : [-0.         -5.70138787 -0.         -0.         -6.02702762]\n",
      "2000 : [-0. -0. -0. -0. -0.]\n",
      "3000 : [-1.2522792  -0.85347936 -0.29929212 -0.7263253  -2.12508933]\n",
      "4000 : [-3.29106118 -5.12310468 -2.50650823 -2.54929631 -0.07231429]\n",
      "5000 : [-0.44233557 -0.         -5.75361914 -0.2530861  -0.01917416]\n",
      "6000 : [-0.         -0.83608354 -1.58072723 -2.29582683 -0.86633763]\n",
      "7000 : [-3.48720022 -0.         -0.         -0.         -4.12686124]\n",
      "8000 : [-0.         -3.11960647 -0.         -1.24599187 -0.        ]\n",
      "evaluation after episode 2 (0.9639416783522453, 1.0456696755423622)\n"
     ]
    }
   ],
   "source": [
    "# actually train:\n",
    "for episode in range(Constants.episodes):\n",
    "    print(\"Starting Episode {}/{}:\".format(episode, Constants.episodes))\n",
    "    done = False\n",
    "    actions = []\n",
    "    timestep = 0\n",
    "\n",
    "    states = env.reset()\n",
    "    for i in range(5):\n",
    "        actions.append(agents.select_actions(states[i]))\n",
    "    while not done:\n",
    "        next_states, reward, done, _ = env.step(actions)\n",
    "        actions_next = []\n",
    "        for i in range(5):\n",
    "            actions_next.append(agents.select_actions(next_states[i]))\n",
    "            agents.add_to_buffer(states[i], actions[i], reward[i], next_states[i], done)\n",
    "        states = next_states\n",
    "        actions = actions_next\n",
    "\n",
    "        if timestep % 1000 == 0:\n",
    "            print(timestep, \":\", reward)\n",
    "        timestep += 1\n",
    "   \n",
    "    print(\"evaluation after episode {}\".format(episode), env.evaluate())"
   ]
  },
  {
   "cell_type": "code",
   "execution_count": null,
   "metadata": {},
   "outputs": [],
   "source": []
  },
  {
   "cell_type": "code",
   "execution_count": 6,
   "metadata": {},
   "outputs": [
    {
     "data": {
      "text/plain": [
       "[<matplotlib.lines.Line2D at 0x136c7e040>]"
      ]
     },
     "execution_count": 6,
     "metadata": {},
     "output_type": "execute_result"
    },
    {
     "data": {
      "image/png": "[encoded data removed]",
      "text/plain": [
       "<Figure size 432x288 with 1 Axes>"
      ]
     },
     "metadata": {
      "needs_background": "light"
     },
     "output_type": "display_data"
    }
   ],
   "source": [
    "plt.plot(pd.Series([reward[0] for reward in env.rewards[1:]]).rolling(24).mean())"
   ]
  },
  {
   "cell_type": "code",
   "execution_count": 7,
   "metadata": {},
   "outputs": [],
   "source": [
    "import pickle\n",
    "with open(\"agent.pickle\", \"wb\") as f:\n",
    "    pickle.dump(agents, f)\n",
    "with open(\"env.pickle\", \"wb\") as f:\n",
    "    pickle.dump(env, f)\n"
   ]
  },
  {
   "cell_type": "code",
   "execution_count": 24,
   "metadata": {},
   "outputs": [
    {
     "name": "stdout",
     "output_type": "stream",
     "text": [
      "SoftQNetwork(\n",
      "  (linear1): Linear(in_features=29, out_features=256, bias=True)\n",
      "  (linear2): Linear(in_features=256, out_features=256, bias=True)\n",
      "  (linear3): Linear(in_features=256, out_features=1, bias=True)\n",
      "  (ln1): LayerNorm((256,), eps=1e-05, elementwise_affine=True)\n",
      "  (ln2): LayerNorm((256,), eps=1e-05, elementwise_affine=True)\n",
      ")\n"
     ]
    }
   ],
   "source": []
  },
  {
   "cell_type": "code",
   "execution_count": null,
   "metadata": {},
   "outputs": [],
   "source": []
  }
 ],
 "metadata": {
  "kernelspec": {
   "display_name": "Python 3.9.13 ('citylearn-2022-starter-kit-yKTDyhqN')",
   "language": "python",
   "name": "python3"
  },
  "language_info": {
   "codemirror_mode": {
    "name": "ipython",
    "version": 3
   },
   "file_extension": ".py",
   "mimetype": "text/x-python",
   "name": "python",
   "nbconvert_exporter": "python",
   "pygments_lexer": "ipython3",
   "version": "3.9.14"
  },
  "orig_nbformat": 4,
  "vscode": {
   "interpreter": {
    "hash": "64cf6ec853810495f36d7c2a8299078f24205ea0a8ca10fcd3d168b92a4562b9"
   }
  }
 },
 "nbformat": 4,
 "nbformat_minor": 2
}
